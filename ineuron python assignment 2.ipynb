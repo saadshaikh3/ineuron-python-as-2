{
 "cells": [
  {
   "cell_type": "markdown",
   "metadata": {},
   "source": [
    "## Task 1:   \n",
    " \n",
    "1.1 Write a Python Program to implement your own myreduce() function which works exactly like Python's built-in function reduce()"
   ]
  },
  {
   "cell_type": "code",
   "execution_count": 93,
   "metadata": {},
   "outputs": [
    {
     "name": "stdout",
     "output_type": "stream",
     "text": [
      "answer with reduce builtin func:  245\n",
      "answer with myreduce func:  245\n"
     ]
    }
   ],
   "source": [
    "import functools\n",
    "def add(x,y): return x+y\n",
    "x = 20\n",
    "y = 30\n",
    "\n",
    "tot = functools.reduce(add, range(20, 30))\n",
    "print ('answer with reduce builtin func: ',tot)\n",
    "\n",
    "def myreduce(a,b):\n",
    "    tot = 0\n",
    "    for i in range(a,b):\n",
    "        tot = tot+i\n",
    "    print ('answer with myreduce func: ',tot)\n",
    "\n",
    "myreduce(x,y)"
   ]
  },
  {
   "cell_type": "markdown",
   "metadata": {},
   "source": [
    "1.2 Write a Python program to implement your own myfilter() function which works exactly like Python's built-in function filter()"
   ]
  },
  {
   "cell_type": "code",
   "execution_count": 94,
   "metadata": {},
   "outputs": [
    {
     "name": "stdout",
     "output_type": "stream",
     "text": [
      "Result with builtin filter func:  [1, 2, 4, 5]\n",
      "Result with myfilter func:  [1, 2, 4, 5]\n"
     ]
    }
   ],
   "source": [
    "def filt(num, lst):\n",
    "    x=filter(lambda x: x != num, lst)\n",
    "    print('Result with builtin filter func: ',list(x))\n",
    "\n",
    "def myfilter(num, lst):\n",
    "    print('Result with myfilter func: ',[x for x in lst if x != num])\n",
    "filt(3,[1,2,3,4,5])\n",
    "myfilter(3,[1,2,3,4,5])"
   ]
  },
  {
   "cell_type": "markdown",
   "metadata": {},
   "source": [
    "2. Implement List comprehensions to produce the following lists. \n",
    " \n",
    "Write List comprehensions to produce the following Lists \n",
    " \n",
    "['A', 'C', 'A', 'D', 'G', 'I', ’L’, ‘ D’] \n",
    " \n",
    "['x', 'xx', 'xxx', 'xxxx', 'y', 'yy', 'yyy', 'yyyy', 'z', 'zz', 'zzz', 'zzzz'] \n",
    " \n",
    "['x', 'y', 'z', 'xx', 'yy', 'zz', 'xx', 'yy', 'zz', 'xxxx', 'yyyy', 'zzzz'] \n",
    " \n",
    "[[2], [3], [4], [3], [4], [5], [4], [5], [6]] \n",
    " \n",
    "[[2, 3, 4, 5], [3, 4, 5, 6], [4, 5, 6, 7], [5, 6, 7, 8]] \n",
    " \n",
    "[(1, 1), (2, 1), (3, 1), (1, 2), (2, 2), (3, 2), (1, 3), (2, 3), (3, 3)] "
   ]
  },
  {
   "cell_type": "code",
   "execution_count": 3,
   "metadata": {},
   "outputs": [
    {
     "name": "stdout",
     "output_type": "stream",
     "text": [
      "enter alphabets:ACADGILD\n",
      "['A', 'C', 'A', 'D', 'G', 'I', 'L', 'D']\n"
     ]
    }
   ],
   "source": [
    "print([i for i in input('enter alphabets:')])"
   ]
  },
  {
   "cell_type": "code",
   "execution_count": 4,
   "metadata": {},
   "outputs": [
    {
     "name": "stdout",
     "output_type": "stream",
     "text": [
      "['x', 'xx', 'xxx', 'xxxx', 'y', 'yy', 'yyy', 'yyyy', 'z', 'zz', 'zzz', 'zzzz']\n"
     ]
    }
   ],
   "source": [
    "lst=['x','y','z']\n",
    "print(sorted([j*i for i in range(1,5) for j in lst]))\n"
   ]
  },
  {
   "cell_type": "code",
   "execution_count": 5,
   "metadata": {},
   "outputs": [
    {
     "name": "stdout",
     "output_type": "stream",
     "text": [
      "['x', 'y', 'z', 'xx', 'yy', 'zz', 'xxxx', 'yyyy', 'zzzz']\n"
     ]
    }
   ],
   "source": [
    "lst=['x','y','z']\n",
    "print([j*i for i in [1,2,4] for j in lst])"
   ]
  },
  {
   "cell_type": "code",
   "execution_count": 6,
   "metadata": {},
   "outputs": [
    {
     "name": "stdout",
     "output_type": "stream",
     "text": [
      "[[2], [3], [4], [3], [4], [5], [4], [5], [6]]\n"
     ]
    }
   ],
   "source": [
    "string = \"my address 234345456\" \n",
    "print([[int(i)] for i in string if i.isdigit()] )"
   ]
  },
  {
   "cell_type": "code",
   "execution_count": 7,
   "metadata": {},
   "outputs": [
    {
     "name": "stdout",
     "output_type": "stream",
     "text": [
      "Enter nums: 2 3 4 5\n",
      "Enter nums: 3 4 5 6\n",
      "Enter nums: 4 5 6 7\n",
      "Enter nums: 5 6 7 8\n",
      "[[2, 3, 4, 5], [3, 4, 5, 6], [4, 5, 6, 7], [5, 6, 7, 8]]\n"
     ]
    }
   ],
   "source": [
    "lst=[]\n",
    "a=[int(i) for i in input(\"Enter nums: \").split()]\n",
    "b=[int(i) for i in input(\"Enter nums: \").split()]\n",
    "x=[int(i) for i in input(\"Enter nums: \").split()]\n",
    "y=[int(i) for i in input(\"Enter nums: \").split()]\n",
    "lst.append(a)\n",
    "lst.append(b)\n",
    "lst.append(x)\n",
    "lst.append(y)\n",
    "print(lst)"
   ]
  },
  {
   "cell_type": "code",
   "execution_count": 14,
   "metadata": {},
   "outputs": [
    {
     "name": "stdout",
     "output_type": "stream",
     "text": [
      "[(1, 1), (2, 1), (3, 1), (1, 2), (2, 2), (3, 2), (1, 3), (2, 3), (3, 3)]\n"
     ]
    }
   ],
   "source": [
    "def getvalues():\n",
    "    elements=[1,2,3]\n",
    "    cross_prod=[(b,a) for a in elements for b in elements]\n",
    "    print(cross_prod)  \n",
    "getvalues()"
   ]
  },
  {
   "cell_type": "markdown",
   "metadata": {},
   "source": [
    "3. Implement a function longestWord() that takes a list of words and returns the longest one."
   ]
  },
  {
   "cell_type": "code",
   "execution_count": 47,
   "metadata": {
    "scrolled": false
   },
   "outputs": [
    {
     "name": "stdout",
     "output_type": "stream",
     "text": [
      "excellent is the longest word\n"
     ]
    }
   ],
   "source": [
    "def longestWord(l):\n",
    "    for a in l:\n",
    "        for b in l:\n",
    "            if a>b:\n",
    "                a=b\n",
    "    print(a,'is the longest word')\n",
    "longestWord(['hello','excellent','game','giraffe'])"
   ]
  },
  {
   "cell_type": "markdown",
   "metadata": {},
   "source": [
    "## Task 2: \n",
    " \n",
    " \n",
    "1.1 Write a Python Program(with class concepts) to find the area of the triangle using the below formula. \n",
    " \n",
    "area = (s*(s-a)*(s-b)*(s-c)) ** 0.5 \n",
    " \n",
    "Function to take the length of the sides of triangle from user should be defined in the parent class and function to calculate the area should be defined in subclass."
   ]
  },
  {
   "cell_type": "code",
   "execution_count": 83,
   "metadata": {},
   "outputs": [
    {
     "name": "stdout",
     "output_type": "stream",
     "text": [
      "enter no: 4\n",
      "enter no: 5\n",
      "enter no: 6\n",
      "21\n"
     ]
    }
   ],
   "source": [
    "class Triangle:\n",
    "    def __init__(self):\n",
    "        self.a=int(input('enter no: '))\n",
    "        self.b=int(input('enter no: '))\n",
    "        self.c=int(input('enter no: '))\n",
    "        self.s=int((self.a+self.b+self.c)*0.5)\n",
    "class Area(Triangle):\n",
    "    def calcarea(self):        \n",
    "        self.are=int((self.s*(self.s-self.a)*(self.s-self.b)*(self.s-self.c)) * 0.5)\n",
    "        print(self.are)                             \n",
    "ob=Area()                                                       \n",
    "ob.calcarea()"
   ]
  },
  {
   "cell_type": "markdown",
   "metadata": {},
   "source": [
    "1.2 Write a function filter_long_words() that takes a list of words and an integer n and returns the list of words that are longer than n. "
   ]
  },
  {
   "cell_type": "code",
   "execution_count": 88,
   "metadata": {},
   "outputs": [
    {
     "name": "stdout",
     "output_type": "stream",
     "text": [
      "excellent is a long word\n",
      "giraffe is a long word\n"
     ]
    }
   ],
   "source": [
    "def filter_long_words(l,n):\n",
    "    for a in l:\n",
    "        if len(a)>n:\n",
    "            print(a,'is a long word')    \n",
    "filter_long_words(['hello','excellent','game','giraffe'],6)"
   ]
  },
  {
   "cell_type": "markdown",
   "metadata": {},
   "source": [
    "2.1 Write a Python program using function concept that maps  list of words into a list of integers representing the lengths of the corresponding words​. \n",
    " Hint: ​If a list [ ab,cde,erty] is passed on to the python function output should come as [2,3,4] \n",
    " Here 2,3 and 4 are the lengths of the words in the list."
   ]
  },
  {
   "cell_type": "code",
   "execution_count": 89,
   "metadata": {},
   "outputs": [
    {
     "name": "stdout",
     "output_type": "stream",
     "text": [
      "[6, 5, 7, 8]\n"
     ]
    }
   ],
   "source": [
    "op=[]\n",
    "def lengths(l):\n",
    "    for a in l:\n",
    "        op.append(len(a))\n",
    "    print(op)\n",
    "lengths(['python','lists','strings','elephant'])"
   ]
  },
  {
   "cell_type": "markdown",
   "metadata": {},
   "source": [
    "2.2 Write a Python function which takes a character (i.e. a string of length 1) and returns True if it is a vowel, False otherwise. "
   ]
  },
  {
   "cell_type": "code",
   "execution_count": 92,
   "metadata": {},
   "outputs": [
    {
     "name": "stdout",
     "output_type": "stream",
     "text": [
      "enter character: o\n"
     ]
    },
    {
     "data": {
      "text/plain": [
       "True"
      ]
     },
     "execution_count": 92,
     "metadata": {},
     "output_type": "execute_result"
    }
   ],
   "source": [
    "v=['a','e','i','o','u']\n",
    "def vowel():\n",
    "    x=input('enter character: ')\n",
    "    if x in v:\n",
    "        return True\n",
    "    return False\n",
    "vowel()"
   ]
  },
  {
   "cell_type": "code",
   "execution_count": null,
   "metadata": {},
   "outputs": [],
   "source": []
  }
 ],
 "metadata": {
  "kernelspec": {
   "display_name": "py3-TF2.0",
   "language": "python",
   "name": "py3-tf2.0"
  },
  "language_info": {
   "codemirror_mode": {
    "name": "ipython",
    "version": 3
   },
   "file_extension": ".py",
   "mimetype": "text/x-python",
   "name": "python",
   "nbconvert_exporter": "python",
   "pygments_lexer": "ipython3",
   "version": "3.7.6"
  }
 },
 "nbformat": 4,
 "nbformat_minor": 4
}
